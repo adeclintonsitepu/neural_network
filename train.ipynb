{
 "cells": [
  {
   "cell_type": "code",
   "execution_count": 1,
   "metadata": {},
   "outputs": [],
   "source": [
    "import network\n",
    "import mnist_loader"
   ]
  },
  {
   "cell_type": "code",
   "execution_count": 2,
   "metadata": {},
   "outputs": [],
   "source": [
    "# create a network\n",
    "net = network.Network([784, 16, 16, 10])"
   ]
  },
  {
   "cell_type": "code",
   "execution_count": 3,
   "metadata": {},
   "outputs": [],
   "source": [
    "# load the data\n",
    "training_data, validation_data, test_data = mnist_loader.load_data_wrapper()"
   ]
  },
  {
   "cell_type": "code",
   "execution_count": 4,
   "metadata": {},
   "outputs": [
    {
     "name": "stdout",
     "output_type": "stream",
     "text": [
      "Epoch 0: 8837 / 10000\n",
      "Epoch 1: 9092 / 10000\n",
      "Epoch 2: 9112 / 10000\n",
      "Epoch 3: 9217 / 10000\n",
      "Epoch 4: 9282 / 10000\n",
      "Epoch 5: 9280 / 10000\n",
      "Epoch 6: 9256 / 10000\n",
      "Epoch 7: 9299 / 10000\n",
      "Epoch 8: 9311 / 10000\n",
      "Epoch 9: 9279 / 10000\n",
      "Epoch 10: 9332 / 10000\n",
      "Epoch 11: 9331 / 10000\n",
      "Epoch 12: 9352 / 10000\n",
      "Epoch 13: 9374 / 10000\n",
      "Epoch 14: 9336 / 10000\n",
      "Epoch 15: 9356 / 10000\n",
      "Epoch 16: 9365 / 10000\n",
      "Epoch 17: 9338 / 10000\n",
      "Epoch 18: 9312 / 10000\n",
      "Epoch 19: 9281 / 10000\n",
      "Epoch 20: 9324 / 10000\n",
      "Epoch 21: 9381 / 10000\n",
      "Epoch 22: 9384 / 10000\n",
      "Epoch 23: 9373 / 10000\n",
      "Epoch 24: 9375 / 10000\n",
      "Epoch 25: 9371 / 10000\n",
      "Epoch 26: 9352 / 10000\n",
      "Epoch 27: 9311 / 10000\n",
      "Epoch 28: 9398 / 10000\n",
      "Epoch 29: 9319 / 10000\n"
     ]
    }
   ],
   "source": [
    "# train the network\n",
    "net.train(training_data, epochs=30, mini_batch_size=10, eta=3.0, test_data=test_data)"
   ]
  },
  {
   "cell_type": "code",
   "execution_count": 5,
   "metadata": {},
   "outputs": [],
   "source": [
    "# Save the trained model\n",
    "net.save(\"trained_network.pkl\")"
   ]
  },
  {
   "cell_type": "code",
   "execution_count": null,
   "metadata": {},
   "outputs": [],
   "source": []
  }
 ],
 "metadata": {
  "kernelspec": {
   "display_name": "Python 3",
   "language": "python",
   "name": "python3"
  },
  "language_info": {
   "codemirror_mode": {
    "name": "ipython",
    "version": 3
   },
   "file_extension": ".py",
   "mimetype": "text/x-python",
   "name": "python",
   "nbconvert_exporter": "python",
   "pygments_lexer": "ipython3",
   "version": "3.10.5"
  }
 },
 "nbformat": 4,
 "nbformat_minor": 4
}
